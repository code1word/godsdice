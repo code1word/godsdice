{
 "cells": [
  {
   "cell_type": "code",
   "execution_count": 2,
   "metadata": {},
   "outputs": [],
   "source": [
    "import numpy as np\n",
    "import matplotlib.pyplot as plt\n",
    "\n",
    "from network_visualization import network_viz\n",
    "from hist_visualization import hist_viz\n",
    "\n",
    "from classical_walk import cwalk\n",
    "import pageRankSim as prs"
   ]
  },
  {
   "cell_type": "code",
   "execution_count": 3,
   "metadata": {},
   "outputs": [],
   "source": [
    "Ns = np.arange(1,100)\n",
    "R = 100\n",
    "\n",
    "cwalk_res = np.zeros((len(Ns),R))\n",
    "\n",
    "for N in Ns:\n",
    "    cwalk_res[N-1,:] = cwalk(N, 100)"
   ]
  },
  {
   "cell_type": "code",
   "execution_count": 4,
   "metadata": {},
   "outputs": [
    {
     "data": {
      "text/plain": [
       "array([[ 1.,  0.,  1., ...,  0.,  0.,  0.],\n",
       "       [ 1.,  1.,  1., ...,  0.,  1.,  0.],\n",
       "       [ 3.,  1.,  2., ...,  2.,  2.,  1.],\n",
       "       ...,\n",
       "       [44., 44., 50., ..., 49., 44., 49.],\n",
       "       [39., 40., 44., ..., 53., 52., 52.],\n",
       "       [53., 54., 48., ..., 49., 55., 57.]])"
      ]
     },
     "execution_count": 4,
     "metadata": {},
     "output_type": "execute_result"
    }
   ],
   "source": [
    "cwalk_res"
   ]
  },
  {
   "cell_type": "code",
   "execution_count": null,
   "metadata": {},
   "outputs": [],
   "source": []
  }
 ],
 "metadata": {
  "kernelspec": {
   "display_name": "Python 3",
   "language": "python",
   "name": "python3"
  },
  "language_info": {
   "codemirror_mode": {
    "name": "ipython",
    "version": 3
   },
   "file_extension": ".py",
   "mimetype": "text/x-python",
   "name": "python",
   "nbconvert_exporter": "python",
   "pygments_lexer": "ipython3",
   "version": "3.7.7"
  }
 },
 "nbformat": 4,
 "nbformat_minor": 4
}
